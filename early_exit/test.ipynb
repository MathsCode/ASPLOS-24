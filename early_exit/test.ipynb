{
 "cells": [
  {
   "cell_type": "code",
   "execution_count": 2,
   "metadata": {},
   "outputs": [
    {
     "name": "stderr",
     "output_type": "stream",
     "text": [
      "Loading checkpoint shards: 100%|██████████| 2/2 [00:29<00:00, 14.77s/it]\n"
     ]
    }
   ],
   "source": [
    "from EE_model import EEModel\n",
    "import torch\n",
    "from fastchat.model import get_conversation_template\n",
    "import os\n",
    "import time\n",
    "from tqdm import trange\n",
    "import json\n",
    "from model_llama_ee import MLP\n",
    "\n",
    "model = EEModel.from_pretrained(\n",
    "    base_model_path='/share/datasets/public_models/Llama-2-7b-chat-hf',\n",
    "    ea_model_path=\"/home/xujiaming/xujiaming/datasets/LLM_models/EAGLE-llama2-chat-7B\",\n",
    "    torch_dtype=torch.float16,\n",
    "    low_cpu_mem_usage=True,\n",
    "    device_map=\"auto\",\n",
    "    # is_offload = False,\n",
    "    # skip_model = \"/home/xujiaming/xujiaming/research/ASPLOS-24/skip_layer/model.txt\",\n",
    ")"
   ]
  },
  {
   "cell_type": "code",
   "execution_count": 13,
   "metadata": {},
   "outputs": [
    {
     "data": {
      "text/plain": [
       "device(type='cuda', index=0)"
      ]
     },
     "execution_count": 13,
     "metadata": {},
     "output_type": "execute_result"
    }
   ],
   "source": [
    "model.base_model.model.layers[0].self_attn.q_proj.weight.device"
   ]
  },
  {
   "cell_type": "code",
   "execution_count": null,
   "metadata": {},
   "outputs": [],
   "source": []
  }
 ],
 "metadata": {
  "kernelspec": {
   "display_name": "spec_de",
   "language": "python",
   "name": "python3"
  },
  "language_info": {
   "codemirror_mode": {
    "name": "ipython",
    "version": 3
   },
   "file_extension": ".py",
   "mimetype": "text/x-python",
   "name": "python",
   "nbconvert_exporter": "python",
   "pygments_lexer": "ipython3",
   "version": "3.10.13"
  }
 },
 "nbformat": 4,
 "nbformat_minor": 2
}
