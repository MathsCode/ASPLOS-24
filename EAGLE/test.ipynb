{
 "cells": [
  {
   "cell_type": "code",
   "execution_count": 4,
   "metadata": {},
   "outputs": [],
   "source": [
    "import torch\n",
    "a = {0: [1], 1: [2, 3, 4, 5], 2: [6, 7, 8, 9], 3: [10, 11, 12, 13], 4: [14, 15], 5: [16], 6: [18], 10: [19], 16: [17], 17: [20], 19: [21], 20: [22], 21: [23]}"
   ]
  },
  {
   "cell_type": "code",
   "execution_count": 17,
   "metadata": {},
   "outputs": [],
   "source": [
    "l = [sub_list + [0]*(4 - len(sub_list)) for sub_list in list(a.values())]"
   ]
  },
  {
   "cell_type": "code",
   "execution_count": 50,
   "metadata": {},
   "outputs": [
    {
     "name": "stdout",
     "output_type": "stream",
     "text": [
      "tensor([[ 1,  2],\n",
      "        [ 8,  9],\n",
      "        [14, 15]])\n"
     ]
    }
   ],
   "source": [
    "import torch\n",
    "\n",
    "# 创建一个示例二维Tensor\n",
    "tensor = torch.tensor([\n",
    "    [1, 2, 3, 4, 5],\n",
    "    [6, 7, 8, 9, 10],\n",
    "    [11, 12, 13, 14, 15]\n",
    "])\n",
    "\n",
    "# 定义每一行需要的数据位置，并填充使得形状一致\n",
    "indices = torch.tensor([\n",
    "    [0, 1],  # 第一行需要第2和第4个元素，填充-1\n",
    "    [2,3],  # 第二行需要第1、第3和第5个元素\n",
    "    [3,4]  # 第三行需要第2和第3个元素，填充-1\n",
    "])\n",
    "\n",
    "# 获取行索引\n",
    "row_indices = torch.arange(tensor.size(0)).unsqueeze(1).expand_as(indices)\n",
    "\n",
    "# 使用高级索引获取每一行指定位置的数据\n",
    "selected_data = tensor[row_indices, indices]\n",
    "selected_data[indices == -1] = 0  # 将填充位置的值设为0\n",
    "\n",
    "print(selected_data)"
   ]
  },
  {
   "cell_type": "code",
   "execution_count": 51,
   "metadata": {},
   "outputs": [
    {
     "data": {
      "text/plain": [
       "tensor([[0, 0],\n",
       "        [1, 1],\n",
       "        [2, 2]])"
      ]
     },
     "execution_count": 51,
     "metadata": {},
     "output_type": "execute_result"
    }
   ],
   "source": [
    "row_indices"
   ]
  },
  {
   "cell_type": "code",
   "execution_count": null,
   "metadata": {},
   "outputs": [],
   "source": []
  }
 ],
 "metadata": {
  "kernelspec": {
   "display_name": "spec_de",
   "language": "python",
   "name": "python3"
  },
  "language_info": {
   "codemirror_mode": {
    "name": "ipython",
    "version": 3
   },
   "file_extension": ".py",
   "mimetype": "text/x-python",
   "name": "python",
   "nbconvert_exporter": "python",
   "pygments_lexer": "ipython3",
   "version": "3.10.13"
  }
 },
 "nbformat": 4,
 "nbformat_minor": 2
}
